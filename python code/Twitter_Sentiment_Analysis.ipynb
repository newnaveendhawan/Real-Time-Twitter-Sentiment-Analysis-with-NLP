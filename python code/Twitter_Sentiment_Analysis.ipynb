{
  "nbformat": 4,
  "nbformat_minor": 0,
  "metadata": {
    "colab": {
      "provenance": []
    },
    "kernelspec": {
      "name": "python3",
      "display_name": "Python 3"
    },
    "language_info": {
      "name": "python"
    }
  },
  "cells": [
    {
      "cell_type": "code",
      "source": [
        "!pip install vaderSentiment"
      ],
      "metadata": {
        "colab": {
          "base_uri": "https://localhost:8080/"
        },
        "id": "vTklBM41exI8",
        "outputId": "325a1523-ca9d-44e0-d461-5f2a6e6d93e8"
      },
      "execution_count": 18,
      "outputs": [
        {
          "output_type": "stream",
          "name": "stdout",
          "text": [
            "Requirement already satisfied: vaderSentiment in /usr/local/lib/python3.11/dist-packages (3.3.2)\n",
            "Requirement already satisfied: requests in /usr/local/lib/python3.11/dist-packages (from vaderSentiment) (2.32.3)\n",
            "Requirement already satisfied: charset-normalizer<4,>=2 in /usr/local/lib/python3.11/dist-packages (from requests->vaderSentiment) (3.4.1)\n",
            "Requirement already satisfied: idna<4,>=2.5 in /usr/local/lib/python3.11/dist-packages (from requests->vaderSentiment) (3.10)\n",
            "Requirement already satisfied: urllib3<3,>=1.21.1 in /usr/local/lib/python3.11/dist-packages (from requests->vaderSentiment) (2.3.0)\n",
            "Requirement already satisfied: certifi>=2017.4.17 in /usr/local/lib/python3.11/dist-packages (from requests->vaderSentiment) (2025.1.31)\n"
          ]
        }
      ]
    },
    {
      "cell_type": "code",
      "execution_count": 19,
      "metadata": {
        "colab": {
          "base_uri": "https://localhost:8080/"
        },
        "id": "TaczCAodek6R",
        "outputId": "eca826c9-9545-4f8a-b345-55fcff0b4f02"
      },
      "outputs": [
        {
          "output_type": "execute_result",
          "data": {
            "text/plain": [
              "{'neg': 0.31, 'neu': 0.69, 'pos': 0.0, 'compound': -0.5574}"
            ]
          },
          "metadata": {},
          "execution_count": 19
        }
      ],
      "source": [
        "from vaderSentiment.vaderSentiment import SentimentIntensityAnalyzer\n",
        "\n",
        "analyzer = SentimentIntensityAnalyzer()\n",
        "score = analyzer.polarity_scores(\"BREAKING: China plans to ban imports of American films.\")\n",
        "\n",
        "score"
      ]
    },
    {
      "cell_type": "code",
      "source": [
        "score = analyzer.polarity_scores(\"China says it will not bow to Trump's new tariff threats.\")\n",
        "\n",
        "score"
      ],
      "metadata": {
        "colab": {
          "base_uri": "https://localhost:8080/"
        },
        "id": "ZIL1nbnIxph6",
        "outputId": "55b5a33b-42aa-49af-995c-8ca44990e1c4"
      },
      "execution_count": 20,
      "outputs": [
        {
          "output_type": "execute_result",
          "data": {
            "text/plain": [
              "{'neg': 0.219, 'neu': 0.781, 'pos': 0.0, 'compound': -0.4215}"
            ]
          },
          "metadata": {},
          "execution_count": 20
        }
      ]
    },
    {
      "cell_type": "code",
      "source": [
        "score = analyzer.polarity_scores(\"Japanese Prime Minister says he's ready to visit the US to negotiate tariffs with Trump.\")\n",
        "\n",
        "score"
      ],
      "metadata": {
        "colab": {
          "base_uri": "https://localhost:8080/"
        },
        "id": "3QpWSQ_KxqZK",
        "outputId": "9ad53c69-03f9-4de4-cea7-2c8af451a928"
      },
      "execution_count": 21,
      "outputs": [
        {
          "output_type": "execute_result",
          "data": {
            "text/plain": [
              "{'neg': 0.0, 'neu': 0.848, 'pos': 0.152, 'compound': 0.3612}"
            ]
          },
          "metadata": {},
          "execution_count": 21
        }
      ]
    },
    {
      "cell_type": "code",
      "source": [
        "score = analyzer.polarity_scores(\"BREAKING: China restricts exports of seven rare earth metals to all countries.\")\n",
        "\n",
        "score"
      ],
      "metadata": {
        "colab": {
          "base_uri": "https://localhost:8080/"
        },
        "id": "OXnnb6P3xrMj",
        "outputId": "fe0ae2a6-dfd3-4744-e903-5306635b0748"
      },
      "execution_count": 22,
      "outputs": [
        {
          "output_type": "execute_result",
          "data": {
            "text/plain": [
              "{'neg': 0.173, 'neu': 0.827, 'pos': 0.0, 'compound': -0.3182}"
            ]
          },
          "metadata": {},
          "execution_count": 22
        }
      ]
    },
    {
      "cell_type": "code",
      "source": [
        "score = analyzer.polarity_scores(\"BREAKING: Donald Trump threatens additional 50% tariff on China if it does not withdraw its 34% tariff.\")\n",
        "\n",
        "score"
      ],
      "metadata": {
        "colab": {
          "base_uri": "https://localhost:8080/"
        },
        "id": "Usx0XNKdxsDg",
        "outputId": "3621c2a4-8299-4069-99cf-2b28298c3884"
      },
      "execution_count": 23,
      "outputs": [
        {
          "output_type": "execute_result",
          "data": {
            "text/plain": [
              "{'neg': 0.14, 'neu': 0.86, 'pos': 0.0, 'compound': -0.3818}"
            ]
          },
          "metadata": {},
          "execution_count": 23
        }
      ]
    },
    {
      "cell_type": "code",
      "source": [
        "score = analyzer.polarity_scores(\"BREAKING: European Union offers United States zero-for-zero tariffs on industrial goods.\")\n",
        "\n",
        "score"
      ],
      "metadata": {
        "colab": {
          "base_uri": "https://localhost:8080/"
        },
        "id": "f3P1YTyni4oY",
        "outputId": "640b0d80-4021-4ec0-d77b-3af8c8202e37"
      },
      "execution_count": 24,
      "outputs": [
        {
          "output_type": "execute_result",
          "data": {
            "text/plain": [
              "{'neg': 0.0, 'neu': 0.781, 'pos': 0.219, 'compound': 0.4215}"
            ]
          },
          "metadata": {},
          "execution_count": 24
        }
      ]
    },
    {
      "cell_type": "code",
      "source": [
        "score = analyzer.polarity_scores(\"BREAKING: Over $2.1 trillion wiped out from US stock market at open.\")\n",
        "\n",
        "score"
      ],
      "metadata": {
        "colab": {
          "base_uri": "https://localhost:8080/"
        },
        "id": "N_ZDYnYtjCx_",
        "outputId": "1ec8e78e-bfca-430f-dba1-efc9f5c4a80f"
      },
      "execution_count": 25,
      "outputs": [
        {
          "output_type": "execute_result",
          "data": {
            "text/plain": [
              "{'neg': 0.0, 'neu': 1.0, 'pos': 0.0, 'compound': 0.0}"
            ]
          },
          "metadata": {},
          "execution_count": 25
        }
      ]
    },
    {
      "cell_type": "code",
      "source": [
        "score = analyzer.polarity_scores(\"Europe says it is ready to negotiate with the United States on tariffs.\")\n",
        "\n",
        "score"
      ],
      "metadata": {
        "colab": {
          "base_uri": "https://localhost:8080/"
        },
        "id": "hBwVZEzOfdHz",
        "outputId": "1f3f3eee-f40f-4bda-c4b2-35a3fdc083a9"
      },
      "execution_count": 26,
      "outputs": [
        {
          "output_type": "execute_result",
          "data": {
            "text/plain": [
              "{'neg': 0.0, 'neu': 0.675, 'pos': 0.325, 'compound': 0.6486}"
            ]
          },
          "metadata": {},
          "execution_count": 26
        }
      ]
    },
    {
      "cell_type": "code",
      "source": [
        "score = analyzer.polarity_scores(\"China says threats and pressure are not the right way to deal with China.\")\n",
        "\n",
        "score"
      ],
      "metadata": {
        "colab": {
          "base_uri": "https://localhost:8080/"
        },
        "id": "3bvsPOFtfuEz",
        "outputId": "612bc9da-85c7-4325-ea54-021e11a49f13"
      },
      "execution_count": 27,
      "outputs": [
        {
          "output_type": "execute_result",
          "data": {
            "text/plain": [
              "{'neg': 0.294, 'neu': 0.706, 'pos': 0.0, 'compound': -0.6124}"
            ]
          },
          "metadata": {},
          "execution_count": 27
        }
      ]
    },
    {
      "cell_type": "code",
      "source": [
        "score = analyzer.polarity_scores(\"BREAKING: China's stock market suffers worst single-day crash since 2008.\")\n",
        "\n",
        "score"
      ],
      "metadata": {
        "colab": {
          "base_uri": "https://localhost:8080/"
        },
        "id": "EY7Lv-GLenkQ",
        "outputId": "07512ad7-0b5b-460d-8a06-3bea53fd8006"
      },
      "execution_count": 28,
      "outputs": [
        {
          "output_type": "execute_result",
          "data": {
            "text/plain": [
              "{'neg': 0.586, 'neu': 0.414, 'pos': 0.0, 'compound': -0.872}"
            ]
          },
          "metadata": {},
          "execution_count": 28
        }
      ]
    },
    {
      "cell_type": "code",
      "source": [],
      "metadata": {
        "id": "blpWR_TWyae_"
      },
      "execution_count": null,
      "outputs": []
    }
  ]
}