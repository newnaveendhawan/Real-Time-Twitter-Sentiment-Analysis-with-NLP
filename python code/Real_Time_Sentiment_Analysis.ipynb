{
  "nbformat": 4,
  "nbformat_minor": 0,
  "metadata": {
    "colab": {
      "provenance": []
    },
    "kernelspec": {
      "name": "python3",
      "display_name": "Python 3"
    },
    "language_info": {
      "name": "python"
    }
  },
  "cells": [
    {
      "cell_type": "code",
      "source": [
        "!pip install vaderSentiment"
      ],
      "metadata": {
        "colab": {
          "base_uri": "https://localhost:8080/"
        },
        "id": "vTklBM41exI8",
        "outputId": "9dedc65a-de2d-48e8-f2cf-2ba302c84b35"
      },
      "execution_count": 3,
      "outputs": [
        {
          "output_type": "stream",
          "name": "stdout",
          "text": [
            "Requirement already satisfied: vaderSentiment in /usr/local/lib/python3.11/dist-packages (3.3.2)\n",
            "Requirement already satisfied: requests in /usr/local/lib/python3.11/dist-packages (from vaderSentiment) (2.32.3)\n",
            "Requirement already satisfied: charset-normalizer<4,>=2 in /usr/local/lib/python3.11/dist-packages (from requests->vaderSentiment) (3.4.1)\n",
            "Requirement already satisfied: idna<4,>=2.5 in /usr/local/lib/python3.11/dist-packages (from requests->vaderSentiment) (3.10)\n",
            "Requirement already satisfied: urllib3<3,>=1.21.1 in /usr/local/lib/python3.11/dist-packages (from requests->vaderSentiment) (2.3.0)\n",
            "Requirement already satisfied: certifi>=2017.4.17 in /usr/local/lib/python3.11/dist-packages (from requests->vaderSentiment) (2025.1.31)\n"
          ]
        }
      ]
    },
    {
      "cell_type": "code",
      "source": [],
      "metadata": {
        "id": "8cf3ogUfCUMN"
      },
      "execution_count": 3,
      "outputs": []
    },
    {
      "cell_type": "code",
      "execution_count": 4,
      "metadata": {
        "id": "TaczCAodek6R",
        "colab": {
          "base_uri": "https://localhost:8080/"
        },
        "outputId": "baf89c38-53d0-4c5c-fc22-497250ba0e8d"
      },
      "outputs": [
        {
          "output_type": "execute_result",
          "data": {
            "text/plain": [
              "{'neg': 0.31, 'neu': 0.69, 'pos': 0.0, 'compound': -0.5574}"
            ]
          },
          "metadata": {},
          "execution_count": 4
        }
      ],
      "source": [
        "from vaderSentiment.vaderSentiment import SentimentIntensityAnalyzer\n",
        "\n",
        "analyzer = SentimentIntensityAnalyzer()\n",
        "score = analyzer.polarity_scores(\"BREAKING: China plans to ban imports of American films.\")\n",
        "\n",
        "score"
      ]
    },
    {
      "cell_type": "code",
      "source": [
        "score = analyzer.polarity_scores(\"BREAKING: The United States is considering withdrawing up to 10,000 troops from Eastern Europe.\")\n",
        "\n",
        "score"
      ],
      "metadata": {
        "colab": {
          "base_uri": "https://localhost:8080/"
        },
        "id": "mFNzeHjXDX95",
        "outputId": "caec7f3f-9770-4c5f-ab56-a5064f868864"
      },
      "execution_count": 5,
      "outputs": [
        {
          "output_type": "execute_result",
          "data": {
            "text/plain": [
              "{'neg': 0.0, 'neu': 0.823, 'pos': 0.177, 'compound': 0.4215}"
            ]
          },
          "metadata": {},
          "execution_count": 5
        }
      ]
    },
    {
      "cell_type": "code",
      "source": [
        "score = analyzer.polarity_scores(\"BREAKING: China plans to ban imports of American films.\")\n",
        "\n",
        "score"
      ],
      "metadata": {
        "colab": {
          "base_uri": "https://localhost:8080/"
        },
        "id": "Q7VRxk6gDk9w",
        "outputId": "07e23325-55a6-4525-d98a-bce51238b657"
      },
      "execution_count": 6,
      "outputs": [
        {
          "output_type": "execute_result",
          "data": {
            "text/plain": [
              "{'neg': 0.31, 'neu': 0.69, 'pos': 0.0, 'compound': -0.5574}"
            ]
          },
          "metadata": {},
          "execution_count": 6
        }
      ]
    },
    {
      "cell_type": "code",
      "source": [
        "score = analyzer.polarity_scores(\"China says it will not bow to Trump's new tariff threats.\")\n",
        "\n",
        "score"
      ],
      "metadata": {
        "id": "ZIL1nbnIxph6",
        "colab": {
          "base_uri": "https://localhost:8080/"
        },
        "outputId": "6f68014c-6378-4f43-adec-6ec357643f6a"
      },
      "execution_count": 7,
      "outputs": [
        {
          "output_type": "execute_result",
          "data": {
            "text/plain": [
              "{'neg': 0.219, 'neu': 0.781, 'pos': 0.0, 'compound': -0.4215}"
            ]
          },
          "metadata": {},
          "execution_count": 7
        }
      ]
    },
    {
      "cell_type": "code",
      "source": [
        "score = analyzer.polarity_scores(\"Japanese Prime Minister says he's ready to visit the US to negotiate tariffs with Trump.\")\n",
        "\n",
        "score"
      ],
      "metadata": {
        "id": "3QpWSQ_KxqZK",
        "colab": {
          "base_uri": "https://localhost:8080/"
        },
        "outputId": "0d079fbe-0252-4480-d68f-114fad9a552f"
      },
      "execution_count": 9,
      "outputs": [
        {
          "output_type": "execute_result",
          "data": {
            "text/plain": [
              "{'neg': 0.0, 'neu': 0.848, 'pos': 0.152, 'compound': 0.3612}"
            ]
          },
          "metadata": {},
          "execution_count": 9
        }
      ]
    },
    {
      "cell_type": "code",
      "source": [
        "score = analyzer.polarity_scores(\"BREAKING: China restricts exports of seven rare earth metals to all countries.\")\n",
        "\n",
        "score"
      ],
      "metadata": {
        "id": "OXnnb6P3xrMj",
        "colab": {
          "base_uri": "https://localhost:8080/"
        },
        "outputId": "74cb31bd-120b-42e0-ed7b-2a2653e1c539"
      },
      "execution_count": 10,
      "outputs": [
        {
          "output_type": "execute_result",
          "data": {
            "text/plain": [
              "{'neg': 0.173, 'neu': 0.827, 'pos': 0.0, 'compound': -0.3182}"
            ]
          },
          "metadata": {},
          "execution_count": 10
        }
      ]
    },
    {
      "cell_type": "code",
      "source": [
        "score = analyzer.polarity_scores(\"BREAKING: Donald Trump threatens additional 50% tariff on China if it does not withdraw its 34% tariff.\")\n",
        "\n",
        "score"
      ],
      "metadata": {
        "id": "Usx0XNKdxsDg",
        "colab": {
          "base_uri": "https://localhost:8080/"
        },
        "outputId": "bd6a58a8-5d5f-418c-86c5-12741fc767fb"
      },
      "execution_count": 11,
      "outputs": [
        {
          "output_type": "execute_result",
          "data": {
            "text/plain": [
              "{'neg': 0.14, 'neu': 0.86, 'pos': 0.0, 'compound': -0.3818}"
            ]
          },
          "metadata": {},
          "execution_count": 11
        }
      ]
    },
    {
      "cell_type": "code",
      "source": [
        "score = analyzer.polarity_scores(\"BREAKING: European Union offers United States zero-for-zero tariffs on industrial goods.\")\n",
        "\n",
        "score"
      ],
      "metadata": {
        "id": "f3P1YTyni4oY",
        "colab": {
          "base_uri": "https://localhost:8080/"
        },
        "outputId": "df0a8827-8204-4fb3-c275-efc583b374e9"
      },
      "execution_count": 12,
      "outputs": [
        {
          "output_type": "execute_result",
          "data": {
            "text/plain": [
              "{'neg': 0.0, 'neu': 0.781, 'pos': 0.219, 'compound': 0.4215}"
            ]
          },
          "metadata": {},
          "execution_count": 12
        }
      ]
    },
    {
      "cell_type": "code",
      "source": [
        "score = analyzer.polarity_scores(\"BREAKING: Over $2.1 trillion wiped out from US stock market at open.\")\n",
        "\n",
        "score"
      ],
      "metadata": {
        "id": "N_ZDYnYtjCx_",
        "colab": {
          "base_uri": "https://localhost:8080/"
        },
        "outputId": "472a7e2a-7120-43f3-bdf7-8dc1d7cd9652"
      },
      "execution_count": 13,
      "outputs": [
        {
          "output_type": "execute_result",
          "data": {
            "text/plain": [
              "{'neg': 0.0, 'neu': 1.0, 'pos': 0.0, 'compound': 0.0}"
            ]
          },
          "metadata": {},
          "execution_count": 13
        }
      ]
    },
    {
      "cell_type": "code",
      "source": [
        "score = analyzer.polarity_scores(\"Europe says it is ready to negotiate with the United States on tariffs.\")\n",
        "\n",
        "score"
      ],
      "metadata": {
        "id": "hBwVZEzOfdHz",
        "colab": {
          "base_uri": "https://localhost:8080/"
        },
        "outputId": "4bafb366-846e-499d-c36f-81f4114f73b7"
      },
      "execution_count": 14,
      "outputs": [
        {
          "output_type": "execute_result",
          "data": {
            "text/plain": [
              "{'neg': 0.0, 'neu': 0.675, 'pos': 0.325, 'compound': 0.6486}"
            ]
          },
          "metadata": {},
          "execution_count": 14
        }
      ]
    },
    {
      "cell_type": "code",
      "source": [
        "score = analyzer.polarity_scores(\"China says threats and pressure are not the right way to deal with China.\")\n",
        "\n",
        "score"
      ],
      "metadata": {
        "id": "3bvsPOFtfuEz",
        "colab": {
          "base_uri": "https://localhost:8080/"
        },
        "outputId": "e653153e-3cb8-455f-acf7-2007d5fd120c"
      },
      "execution_count": 15,
      "outputs": [
        {
          "output_type": "execute_result",
          "data": {
            "text/plain": [
              "{'neg': 0.294, 'neu': 0.706, 'pos': 0.0, 'compound': -0.6124}"
            ]
          },
          "metadata": {},
          "execution_count": 15
        }
      ]
    },
    {
      "cell_type": "code",
      "source": [
        "score = analyzer.polarity_scores(\"BREAKING: China's stock market suffers worst single-day crash since 2008.\")\n",
        "\n",
        "score"
      ],
      "metadata": {
        "id": "EY7Lv-GLenkQ",
        "colab": {
          "base_uri": "https://localhost:8080/"
        },
        "outputId": "3e310149-84c9-48c5-d7bc-a365678bf42e"
      },
      "execution_count": 16,
      "outputs": [
        {
          "output_type": "execute_result",
          "data": {
            "text/plain": [
              "{'neg': 0.586, 'neu': 0.414, 'pos': 0.0, 'compound': -0.872}"
            ]
          },
          "metadata": {},
          "execution_count": 16
        }
      ]
    },
    {
      "cell_type": "code",
      "source": [],
      "metadata": {
        "id": "blpWR_TWyae_"
      },
      "execution_count": null,
      "outputs": []
    }
  ]
}